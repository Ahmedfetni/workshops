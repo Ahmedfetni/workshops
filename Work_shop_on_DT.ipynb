{
  "cells": [
    {
      "cell_type": "markdown",
      "metadata": {
        "id": "x5yYbOiXoaVw"
      },
      "source": [
        "### 1. Classification with Tree:"
      ]
    },
    {
      "cell_type": "code",
      "execution_count": 11,
      "metadata": {
        "id": "xwT2WKlToaVy"
      },
      "outputs": [],
      "source": [
        "import numpy as np\n",
        "import pandas as pd\n",
        "import matplotlib.pyplot as plt\n",
        "import os\n",
        "import seaborn as sns\n",
        "import warnings\n",
        "from sklearn.model_selection import train_test_split, GridSearchCV\n",
        "from sklearn.tree import DecisionTreeClassifier, DecisionTreeRegressor\n",
        "from sklearn import metrics, preprocessing\n",
        "from sklearn.datasets import load_boston\n",
        "warnings.filterwarnings(action='ignore')                  # Turn off the warnings.\n",
        "%matplotlib inline"
      ]
    },
    {
      "cell_type": "markdown",
      "metadata": {
        "id": "gnKDNJ53oaV2"
      },
      "source": [
        "#### 1.1. Read in data:"
      ]
    },
    {
      "cell_type": "code",
      "execution_count": null,
      "metadata": {
        "id": "eo7V71lyoaV3"
      },
      "outputs": [],
      "source": [
        "# Go to the directory where the data file is located. \n",
        "# os.chdir(r'~~')                # Please, replace the path with your own.   "
      ]
    },
    {
      "cell_type": "code",
      "execution_count": 12,
      "metadata": {
        "id": "eG0NtlM4oaV4"
      },
      "outputs": [],
      "source": [
        "# Read the already pre-processed data.\n",
        "df = pd.read_csv('data_titanic_2.csv', header='infer')"
      ]
    },
    {
      "cell_type": "code",
      "execution_count": 13,
      "metadata": {
        "id": "KOmM8xS1oaV4"
      },
      "outputs": [
        {
          "data": {
            "text/plain": [
              "(889, 21)"
            ]
          },
          "execution_count": 13,
          "metadata": {},
          "output_type": "execute_result"
        }
      ],
      "source": [
        "df.shape"
      ]
    },
    {
      "cell_type": "code",
      "execution_count": 14,
      "metadata": {
        "id": "OM8dKgIXoaV5"
      },
      "outputs": [
        {
          "data": {
            "text/html": [
              "<div>\n",
              "<style scoped>\n",
              "    .dataframe tbody tr th:only-of-type {\n",
              "        vertical-align: middle;\n",
              "    }\n",
              "\n",
              "    .dataframe tbody tr th {\n",
              "        vertical-align: top;\n",
              "    }\n",
              "\n",
              "    .dataframe thead th {\n",
              "        text-align: right;\n",
              "    }\n",
              "</style>\n",
              "<table border=\"1\" class=\"dataframe\">\n",
              "  <thead>\n",
              "    <tr style=\"text-align: right;\">\n",
              "      <th></th>\n",
              "      <th>Embarked_Q</th>\n",
              "      <th>Embarked_S</th>\n",
              "      <th>Sex_male</th>\n",
              "      <th>Parch_1</th>\n",
              "      <th>Parch_2</th>\n",
              "      <th>Parch_3</th>\n",
              "      <th>Parch_4</th>\n",
              "      <th>Parch_5</th>\n",
              "      <th>Parch_6</th>\n",
              "      <th>SibSp_1</th>\n",
              "      <th>...</th>\n",
              "      <th>SibSp_3</th>\n",
              "      <th>SibSp_4</th>\n",
              "      <th>SibSp_5</th>\n",
              "      <th>SibSp_8</th>\n",
              "      <th>Pclass_2</th>\n",
              "      <th>Pclass_3</th>\n",
              "      <th>Age_(21.0, 30.0]</th>\n",
              "      <th>Age_(30.0, 35.0]</th>\n",
              "      <th>Age_(35.0, 80.0]</th>\n",
              "      <th>Survived</th>\n",
              "    </tr>\n",
              "  </thead>\n",
              "  <tbody>\n",
              "    <tr>\n",
              "      <th>0</th>\n",
              "      <td>0</td>\n",
              "      <td>1</td>\n",
              "      <td>1</td>\n",
              "      <td>0</td>\n",
              "      <td>0</td>\n",
              "      <td>0</td>\n",
              "      <td>0</td>\n",
              "      <td>0</td>\n",
              "      <td>0</td>\n",
              "      <td>1</td>\n",
              "      <td>...</td>\n",
              "      <td>0</td>\n",
              "      <td>0</td>\n",
              "      <td>0</td>\n",
              "      <td>0</td>\n",
              "      <td>0</td>\n",
              "      <td>1</td>\n",
              "      <td>1</td>\n",
              "      <td>0</td>\n",
              "      <td>0</td>\n",
              "      <td>0</td>\n",
              "    </tr>\n",
              "    <tr>\n",
              "      <th>1</th>\n",
              "      <td>0</td>\n",
              "      <td>0</td>\n",
              "      <td>0</td>\n",
              "      <td>0</td>\n",
              "      <td>0</td>\n",
              "      <td>0</td>\n",
              "      <td>0</td>\n",
              "      <td>0</td>\n",
              "      <td>0</td>\n",
              "      <td>1</td>\n",
              "      <td>...</td>\n",
              "      <td>0</td>\n",
              "      <td>0</td>\n",
              "      <td>0</td>\n",
              "      <td>0</td>\n",
              "      <td>0</td>\n",
              "      <td>0</td>\n",
              "      <td>0</td>\n",
              "      <td>0</td>\n",
              "      <td>1</td>\n",
              "      <td>1</td>\n",
              "    </tr>\n",
              "    <tr>\n",
              "      <th>2</th>\n",
              "      <td>0</td>\n",
              "      <td>1</td>\n",
              "      <td>0</td>\n",
              "      <td>0</td>\n",
              "      <td>0</td>\n",
              "      <td>0</td>\n",
              "      <td>0</td>\n",
              "      <td>0</td>\n",
              "      <td>0</td>\n",
              "      <td>0</td>\n",
              "      <td>...</td>\n",
              "      <td>0</td>\n",
              "      <td>0</td>\n",
              "      <td>0</td>\n",
              "      <td>0</td>\n",
              "      <td>0</td>\n",
              "      <td>1</td>\n",
              "      <td>1</td>\n",
              "      <td>0</td>\n",
              "      <td>0</td>\n",
              "      <td>1</td>\n",
              "    </tr>\n",
              "    <tr>\n",
              "      <th>3</th>\n",
              "      <td>0</td>\n",
              "      <td>1</td>\n",
              "      <td>0</td>\n",
              "      <td>0</td>\n",
              "      <td>0</td>\n",
              "      <td>0</td>\n",
              "      <td>0</td>\n",
              "      <td>0</td>\n",
              "      <td>0</td>\n",
              "      <td>1</td>\n",
              "      <td>...</td>\n",
              "      <td>0</td>\n",
              "      <td>0</td>\n",
              "      <td>0</td>\n",
              "      <td>0</td>\n",
              "      <td>0</td>\n",
              "      <td>0</td>\n",
              "      <td>0</td>\n",
              "      <td>1</td>\n",
              "      <td>0</td>\n",
              "      <td>1</td>\n",
              "    </tr>\n",
              "  </tbody>\n",
              "</table>\n",
              "<p>4 rows × 21 columns</p>\n",
              "</div>"
            ],
            "text/plain": [
              "   Embarked_Q  Embarked_S  Sex_male  Parch_1  Parch_2  Parch_3  Parch_4  \\\n",
              "0           0           1         1        0        0        0        0   \n",
              "1           0           0         0        0        0        0        0   \n",
              "2           0           1         0        0        0        0        0   \n",
              "3           0           1         0        0        0        0        0   \n",
              "\n",
              "   Parch_5  Parch_6  SibSp_1  ...  SibSp_3  SibSp_4  SibSp_5  SibSp_8  \\\n",
              "0        0        0        1  ...        0        0        0        0   \n",
              "1        0        0        1  ...        0        0        0        0   \n",
              "2        0        0        0  ...        0        0        0        0   \n",
              "3        0        0        1  ...        0        0        0        0   \n",
              "\n",
              "   Pclass_2  Pclass_3  Age_(21.0, 30.0]  Age_(30.0, 35.0]  Age_(35.0, 80.0]  \\\n",
              "0         0         1                 1                 0                 0   \n",
              "1         0         0                 0                 0                 1   \n",
              "2         0         1                 1                 0                 0   \n",
              "3         0         0                 0                 1                 0   \n",
              "\n",
              "   Survived  \n",
              "0         0  \n",
              "1         1  \n",
              "2         1  \n",
              "3         1  \n",
              "\n",
              "[4 rows x 21 columns]"
            ]
          },
          "execution_count": 14,
          "metadata": {},
          "output_type": "execute_result"
        }
      ],
      "source": [
        "df.head(4)"
      ]
    },
    {
      "cell_type": "code",
      "execution_count": 16,
      "metadata": {
        "id": "sgo9l0s7oaV5"
      },
      "outputs": [],
      "source": [
        "X = df.drop(columns=['Survived'])\n",
        "Y = df.Survived"
      ]
    },
    {
      "cell_type": "code",
      "execution_count": 17,
      "metadata": {
        "id": "e5xICdCRoaV6"
      },
      "outputs": [
        {
          "data": {
            "text/plain": [
              "DecisionTreeClassifier(criterion='entropy', max_depth=6, random_state=4)"
            ]
          },
          "execution_count": 17,
          "metadata": {},
          "output_type": "execute_result"
        }
      ],
      "source": [
        "x_train, x_test, y_train, y_test = train_test_split(X, Y, test_size=0.3, random_state=1234)\n",
        "model = DecisionTreeClassifier(random_state=4,max_depth=6,criterion='entropy')\n",
        "model.fit(x_train,y_train)"
      ]
    },
    {
      "cell_type": "code",
      "execution_count": 19,
      "metadata": {},
      "outputs": [
        {
          "name": "stdout",
          "output_type": "stream",
          "text": [
            "|--- feature_2 <= 0.50\n",
            "|   |--- feature_16 <= 0.50\n",
            "|   |   |--- feature_9 <= 0.50\n",
            "|   |   |   |--- feature_17 <= 0.50\n",
            "|   |   |   |   |--- class: 1\n",
            "|   |   |   |--- feature_17 >  0.50\n",
            "|   |   |   |   |--- feature_15 <= 0.50\n",
            "|   |   |   |   |   |--- class: 1\n",
            "|   |   |   |   |--- feature_15 >  0.50\n",
            "|   |   |   |   |   |--- feature_1 <= 0.50\n",
            "|   |   |   |   |   |   |--- class: 1\n",
            "|   |   |   |   |   |--- feature_1 >  0.50\n",
            "|   |   |   |   |   |   |--- class: 1\n",
            "|   |   |--- feature_9 >  0.50\n",
            "|   |   |   |--- feature_1 <= 0.50\n",
            "|   |   |   |   |--- class: 1\n",
            "|   |   |   |--- feature_1 >  0.50\n",
            "|   |   |   |   |--- feature_17 <= 0.50\n",
            "|   |   |   |   |   |--- feature_3 <= 0.50\n",
            "|   |   |   |   |   |   |--- class: 1\n",
            "|   |   |   |   |   |--- feature_3 >  0.50\n",
            "|   |   |   |   |   |   |--- class: 1\n",
            "|   |   |   |   |--- feature_17 >  0.50\n",
            "|   |   |   |   |   |--- feature_3 <= 0.50\n",
            "|   |   |   |   |   |   |--- class: 1\n",
            "|   |   |   |   |   |--- feature_3 >  0.50\n",
            "|   |   |   |   |   |   |--- class: 0\n",
            "|   |--- feature_16 >  0.50\n",
            "|   |   |--- feature_4 <= 0.50\n",
            "|   |   |   |--- feature_19 <= 0.50\n",
            "|   |   |   |   |--- feature_0 <= 0.50\n",
            "|   |   |   |   |   |--- feature_18 <= 0.50\n",
            "|   |   |   |   |   |   |--- class: 1\n",
            "|   |   |   |   |   |--- feature_18 >  0.50\n",
            "|   |   |   |   |   |   |--- class: 1\n",
            "|   |   |   |   |--- feature_0 >  0.50\n",
            "|   |   |   |   |   |--- feature_18 <= 0.50\n",
            "|   |   |   |   |   |   |--- class: 1\n",
            "|   |   |   |   |   |--- feature_18 >  0.50\n",
            "|   |   |   |   |   |   |--- class: 0\n",
            "|   |   |   |--- feature_19 >  0.50\n",
            "|   |   |   |   |--- feature_1 <= 0.50\n",
            "|   |   |   |   |   |--- class: 0\n",
            "|   |   |   |   |--- feature_1 >  0.50\n",
            "|   |   |   |   |   |--- feature_5 <= 0.50\n",
            "|   |   |   |   |   |   |--- class: 0\n",
            "|   |   |   |   |   |--- feature_5 >  0.50\n",
            "|   |   |   |   |   |   |--- class: 0\n",
            "|   |   |--- feature_4 >  0.50\n",
            "|   |   |   |--- feature_1 <= 0.50\n",
            "|   |   |   |   |--- feature_0 <= 0.50\n",
            "|   |   |   |   |   |--- feature_17 <= 0.50\n",
            "|   |   |   |   |   |   |--- class: 1\n",
            "|   |   |   |   |   |--- feature_17 >  0.50\n",
            "|   |   |   |   |   |   |--- class: 1\n",
            "|   |   |   |   |--- feature_0 >  0.50\n",
            "|   |   |   |   |   |--- class: 0\n",
            "|   |   |   |--- feature_1 >  0.50\n",
            "|   |   |   |   |--- feature_14 <= 0.50\n",
            "|   |   |   |   |   |--- feature_11 <= 0.50\n",
            "|   |   |   |   |   |   |--- class: 0\n",
            "|   |   |   |   |   |--- feature_11 >  0.50\n",
            "|   |   |   |   |   |   |--- class: 0\n",
            "|   |   |   |   |--- feature_14 >  0.50\n",
            "|   |   |   |   |   |--- class: 0\n",
            "|--- feature_2 >  0.50\n",
            "|   |--- feature_16 <= 0.50\n",
            "|   |   |--- feature_15 <= 0.50\n",
            "|   |   |   |--- feature_4 <= 0.50\n",
            "|   |   |   |   |--- feature_18 <= 0.50\n",
            "|   |   |   |   |   |--- feature_3 <= 0.50\n",
            "|   |   |   |   |   |   |--- class: 0\n",
            "|   |   |   |   |   |--- feature_3 >  0.50\n",
            "|   |   |   |   |   |   |--- class: 0\n",
            "|   |   |   |   |--- feature_18 >  0.50\n",
            "|   |   |   |   |   |--- feature_1 <= 0.50\n",
            "|   |   |   |   |   |   |--- class: 1\n",
            "|   |   |   |   |   |--- feature_1 >  0.50\n",
            "|   |   |   |   |   |   |--- class: 0\n",
            "|   |   |   |--- feature_4 >  0.50\n",
            "|   |   |   |   |--- feature_11 <= 0.50\n",
            "|   |   |   |   |   |--- feature_19 <= 0.50\n",
            "|   |   |   |   |   |   |--- class: 1\n",
            "|   |   |   |   |   |--- feature_19 >  0.50\n",
            "|   |   |   |   |   |   |--- class: 0\n",
            "|   |   |   |   |--- feature_11 >  0.50\n",
            "|   |   |   |   |   |--- class: 0\n",
            "|   |   |--- feature_15 >  0.50\n",
            "|   |   |   |--- feature_3 <= 0.50\n",
            "|   |   |   |   |--- feature_4 <= 0.50\n",
            "|   |   |   |   |   |--- feature_18 <= 0.50\n",
            "|   |   |   |   |   |   |--- class: 0\n",
            "|   |   |   |   |   |--- feature_18 >  0.50\n",
            "|   |   |   |   |   |   |--- class: 0\n",
            "|   |   |   |   |--- feature_4 >  0.50\n",
            "|   |   |   |   |   |--- feature_9 <= 0.50\n",
            "|   |   |   |   |   |   |--- class: 1\n",
            "|   |   |   |   |   |--- feature_9 >  0.50\n",
            "|   |   |   |   |   |   |--- class: 0\n",
            "|   |   |   |--- feature_3 >  0.50\n",
            "|   |   |   |   |--- feature_19 <= 0.50\n",
            "|   |   |   |   |   |--- feature_17 <= 0.50\n",
            "|   |   |   |   |   |   |--- class: 1\n",
            "|   |   |   |   |   |--- feature_17 >  0.50\n",
            "|   |   |   |   |   |   |--- class: 0\n",
            "|   |   |   |   |--- feature_19 >  0.50\n",
            "|   |   |   |   |   |--- class: 0\n",
            "|   |--- feature_16 >  0.50\n",
            "|   |   |--- feature_3 <= 0.50\n",
            "|   |   |   |--- feature_18 <= 0.50\n",
            "|   |   |   |   |--- feature_12 <= 0.50\n",
            "|   |   |   |   |   |--- feature_14 <= 0.50\n",
            "|   |   |   |   |   |   |--- class: 0\n",
            "|   |   |   |   |   |--- feature_14 >  0.50\n",
            "|   |   |   |   |   |   |--- class: 0\n",
            "|   |   |   |   |--- feature_12 >  0.50\n",
            "|   |   |   |   |   |--- class: 0\n",
            "|   |   |   |--- feature_18 >  0.50\n",
            "|   |   |   |   |--- feature_1 <= 0.50\n",
            "|   |   |   |   |   |--- class: 0\n",
            "|   |   |   |   |--- feature_1 >  0.50\n",
            "|   |   |   |   |   |--- class: 0\n",
            "|   |   |--- feature_3 >  0.50\n",
            "|   |   |   |--- feature_12 <= 0.50\n",
            "|   |   |   |   |--- feature_1 <= 0.50\n",
            "|   |   |   |   |   |--- feature_9 <= 0.50\n",
            "|   |   |   |   |   |   |--- class: 1\n",
            "|   |   |   |   |   |--- feature_9 >  0.50\n",
            "|   |   |   |   |   |   |--- class: 0\n",
            "|   |   |   |   |--- feature_1 >  0.50\n",
            "|   |   |   |   |   |--- feature_19 <= 0.50\n",
            "|   |   |   |   |   |   |--- class: 0\n",
            "|   |   |   |   |   |--- feature_19 >  0.50\n",
            "|   |   |   |   |   |   |--- class: 0\n",
            "|   |   |   |--- feature_12 >  0.50\n",
            "|   |   |   |   |--- class: 0\n",
            "\n"
          ]
        }
      ],
      "source": [
        "from sklearn import tree\n",
        "print(tree.export_text(model))"
      ]
    },
    {
      "cell_type": "markdown",
      "metadata": {
        "id": "GwRtVCgCoaV6"
      },
      "source": [
        "#### 1.2. Tree hyperparameter optimization:"
      ]
    },
    {
      "cell_type": "code",
      "execution_count": 37,
      "metadata": {},
      "outputs": [],
      "source": [
        "\n",
        "from sklearn.model_selection import GridSearchCV\n",
        "from sklearn.metrics import classification_report, confusion_matrix "
      ]
    },
    {
      "cell_type": "code",
      "execution_count": 43,
      "metadata": {},
      "outputs": [
        {
          "name": "stdout",
          "output_type": "stream",
          "text": [
            "{'criterion': 'gini', 'max_depth': 3}\n"
          ]
        }
      ],
      "source": [
        "\n",
        "param_grid = { 'criterion':['gini','entropy'],'max_depth': np.arange(3, 15)}\n",
        "# decision tree model\n",
        "dtree_model=DecisionTreeClassifier()\n",
        "#use gridsearch to test all values\n",
        "dtree_gscv = GridSearchCV(dtree_model, param_grid, cv=5)\n",
        "#fit model to data\n",
        "dtree_gscv.fit(x_train, y_train)\n",
        "print(dtree_gscv.best_params_)\n"
      ]
    },
    {
      "cell_type": "markdown",
      "metadata": {
        "id": "clyMggKdoaWF"
      },
      "source": [
        "### 2. Regression with Tree:"
      ]
    },
    {
      "cell_type": "markdown",
      "metadata": {
        "id": "_npAd76ZoaWF"
      },
      "source": [
        "#### 2.1. Read in data: "
      ]
    },
    {
      "cell_type": "code",
      "execution_count": 22,
      "metadata": {
        "id": "Rqyc9CpLoaWG"
      },
      "outputs": [
        {
          "data": {
            "text/html": [
              "<div>\n",
              "<style scoped>\n",
              "    .dataframe tbody tr th:only-of-type {\n",
              "        vertical-align: middle;\n",
              "    }\n",
              "\n",
              "    .dataframe tbody tr th {\n",
              "        vertical-align: top;\n",
              "    }\n",
              "\n",
              "    .dataframe thead th {\n",
              "        text-align: right;\n",
              "    }\n",
              "</style>\n",
              "<table border=\"1\" class=\"dataframe\">\n",
              "  <thead>\n",
              "    <tr style=\"text-align: right;\">\n",
              "      <th></th>\n",
              "      <th>ID</th>\n",
              "      <th>crim</th>\n",
              "      <th>zn</th>\n",
              "      <th>indus</th>\n",
              "      <th>chas</th>\n",
              "      <th>nox</th>\n",
              "      <th>rm</th>\n",
              "      <th>age</th>\n",
              "      <th>dis</th>\n",
              "      <th>rad</th>\n",
              "      <th>tax</th>\n",
              "      <th>ptratio</th>\n",
              "      <th>black</th>\n",
              "      <th>lstat</th>\n",
              "    </tr>\n",
              "  </thead>\n",
              "  <tbody>\n",
              "    <tr>\n",
              "      <th>0</th>\n",
              "      <td>3</td>\n",
              "      <td>0.02729</td>\n",
              "      <td>0.0</td>\n",
              "      <td>7.07</td>\n",
              "      <td>0</td>\n",
              "      <td>0.469</td>\n",
              "      <td>7.185</td>\n",
              "      <td>61.1</td>\n",
              "      <td>4.9671</td>\n",
              "      <td>2</td>\n",
              "      <td>242</td>\n",
              "      <td>17.8</td>\n",
              "      <td>392.83</td>\n",
              "      <td>4.03</td>\n",
              "    </tr>\n",
              "    <tr>\n",
              "      <th>1</th>\n",
              "      <td>6</td>\n",
              "      <td>0.02985</td>\n",
              "      <td>0.0</td>\n",
              "      <td>2.18</td>\n",
              "      <td>0</td>\n",
              "      <td>0.458</td>\n",
              "      <td>6.430</td>\n",
              "      <td>58.7</td>\n",
              "      <td>6.0622</td>\n",
              "      <td>3</td>\n",
              "      <td>222</td>\n",
              "      <td>18.7</td>\n",
              "      <td>394.12</td>\n",
              "      <td>5.21</td>\n",
              "    </tr>\n",
              "    <tr>\n",
              "      <th>2</th>\n",
              "      <td>8</td>\n",
              "      <td>0.14455</td>\n",
              "      <td>12.5</td>\n",
              "      <td>7.87</td>\n",
              "      <td>0</td>\n",
              "      <td>0.524</td>\n",
              "      <td>6.172</td>\n",
              "      <td>96.1</td>\n",
              "      <td>5.9505</td>\n",
              "      <td>5</td>\n",
              "      <td>311</td>\n",
              "      <td>15.2</td>\n",
              "      <td>396.90</td>\n",
              "      <td>19.15</td>\n",
              "    </tr>\n",
              "    <tr>\n",
              "      <th>3</th>\n",
              "      <td>9</td>\n",
              "      <td>0.21124</td>\n",
              "      <td>12.5</td>\n",
              "      <td>7.87</td>\n",
              "      <td>0</td>\n",
              "      <td>0.524</td>\n",
              "      <td>5.631</td>\n",
              "      <td>100.0</td>\n",
              "      <td>6.0821</td>\n",
              "      <td>5</td>\n",
              "      <td>311</td>\n",
              "      <td>15.2</td>\n",
              "      <td>386.63</td>\n",
              "      <td>29.93</td>\n",
              "    </tr>\n",
              "    <tr>\n",
              "      <th>4</th>\n",
              "      <td>10</td>\n",
              "      <td>0.17004</td>\n",
              "      <td>12.5</td>\n",
              "      <td>7.87</td>\n",
              "      <td>0</td>\n",
              "      <td>0.524</td>\n",
              "      <td>6.004</td>\n",
              "      <td>85.9</td>\n",
              "      <td>6.5921</td>\n",
              "      <td>5</td>\n",
              "      <td>311</td>\n",
              "      <td>15.2</td>\n",
              "      <td>386.71</td>\n",
              "      <td>17.10</td>\n",
              "    </tr>\n",
              "    <tr>\n",
              "      <th>...</th>\n",
              "      <td>...</td>\n",
              "      <td>...</td>\n",
              "      <td>...</td>\n",
              "      <td>...</td>\n",
              "      <td>...</td>\n",
              "      <td>...</td>\n",
              "      <td>...</td>\n",
              "      <td>...</td>\n",
              "      <td>...</td>\n",
              "      <td>...</td>\n",
              "      <td>...</td>\n",
              "      <td>...</td>\n",
              "      <td>...</td>\n",
              "      <td>...</td>\n",
              "    </tr>\n",
              "    <tr>\n",
              "      <th>168</th>\n",
              "      <td>496</td>\n",
              "      <td>0.17899</td>\n",
              "      <td>0.0</td>\n",
              "      <td>9.69</td>\n",
              "      <td>0</td>\n",
              "      <td>0.585</td>\n",
              "      <td>5.670</td>\n",
              "      <td>28.8</td>\n",
              "      <td>2.7986</td>\n",
              "      <td>6</td>\n",
              "      <td>391</td>\n",
              "      <td>19.2</td>\n",
              "      <td>393.29</td>\n",
              "      <td>17.60</td>\n",
              "    </tr>\n",
              "    <tr>\n",
              "      <th>169</th>\n",
              "      <td>497</td>\n",
              "      <td>0.28960</td>\n",
              "      <td>0.0</td>\n",
              "      <td>9.69</td>\n",
              "      <td>0</td>\n",
              "      <td>0.585</td>\n",
              "      <td>5.390</td>\n",
              "      <td>72.9</td>\n",
              "      <td>2.7986</td>\n",
              "      <td>6</td>\n",
              "      <td>391</td>\n",
              "      <td>19.2</td>\n",
              "      <td>396.90</td>\n",
              "      <td>21.14</td>\n",
              "    </tr>\n",
              "    <tr>\n",
              "      <th>170</th>\n",
              "      <td>499</td>\n",
              "      <td>0.23912</td>\n",
              "      <td>0.0</td>\n",
              "      <td>9.69</td>\n",
              "      <td>0</td>\n",
              "      <td>0.585</td>\n",
              "      <td>6.019</td>\n",
              "      <td>65.3</td>\n",
              "      <td>2.4091</td>\n",
              "      <td>6</td>\n",
              "      <td>391</td>\n",
              "      <td>19.2</td>\n",
              "      <td>396.90</td>\n",
              "      <td>12.92</td>\n",
              "    </tr>\n",
              "    <tr>\n",
              "      <th>171</th>\n",
              "      <td>501</td>\n",
              "      <td>0.22438</td>\n",
              "      <td>0.0</td>\n",
              "      <td>9.69</td>\n",
              "      <td>0</td>\n",
              "      <td>0.585</td>\n",
              "      <td>6.027</td>\n",
              "      <td>79.7</td>\n",
              "      <td>2.4982</td>\n",
              "      <td>6</td>\n",
              "      <td>391</td>\n",
              "      <td>19.2</td>\n",
              "      <td>396.90</td>\n",
              "      <td>14.33</td>\n",
              "    </tr>\n",
              "    <tr>\n",
              "      <th>172</th>\n",
              "      <td>505</td>\n",
              "      <td>0.10959</td>\n",
              "      <td>0.0</td>\n",
              "      <td>11.93</td>\n",
              "      <td>0</td>\n",
              "      <td>0.573</td>\n",
              "      <td>6.794</td>\n",
              "      <td>89.3</td>\n",
              "      <td>2.3889</td>\n",
              "      <td>1</td>\n",
              "      <td>273</td>\n",
              "      <td>21.0</td>\n",
              "      <td>393.45</td>\n",
              "      <td>6.48</td>\n",
              "    </tr>\n",
              "  </tbody>\n",
              "</table>\n",
              "<p>173 rows × 14 columns</p>\n",
              "</div>"
            ],
            "text/plain": [
              "      ID     crim    zn  indus  chas    nox     rm    age     dis  rad  tax  \\\n",
              "0      3  0.02729   0.0   7.07     0  0.469  7.185   61.1  4.9671    2  242   \n",
              "1      6  0.02985   0.0   2.18     0  0.458  6.430   58.7  6.0622    3  222   \n",
              "2      8  0.14455  12.5   7.87     0  0.524  6.172   96.1  5.9505    5  311   \n",
              "3      9  0.21124  12.5   7.87     0  0.524  5.631  100.0  6.0821    5  311   \n",
              "4     10  0.17004  12.5   7.87     0  0.524  6.004   85.9  6.5921    5  311   \n",
              "..   ...      ...   ...    ...   ...    ...    ...    ...     ...  ...  ...   \n",
              "168  496  0.17899   0.0   9.69     0  0.585  5.670   28.8  2.7986    6  391   \n",
              "169  497  0.28960   0.0   9.69     0  0.585  5.390   72.9  2.7986    6  391   \n",
              "170  499  0.23912   0.0   9.69     0  0.585  6.019   65.3  2.4091    6  391   \n",
              "171  501  0.22438   0.0   9.69     0  0.585  6.027   79.7  2.4982    6  391   \n",
              "172  505  0.10959   0.0  11.93     0  0.573  6.794   89.3  2.3889    1  273   \n",
              "\n",
              "     ptratio   black  lstat  \n",
              "0       17.8  392.83   4.03  \n",
              "1       18.7  394.12   5.21  \n",
              "2       15.2  396.90  19.15  \n",
              "3       15.2  386.63  29.93  \n",
              "4       15.2  386.71  17.10  \n",
              "..       ...     ...    ...  \n",
              "168     19.2  393.29  17.60  \n",
              "169     19.2  396.90  21.14  \n",
              "170     19.2  396.90  12.92  \n",
              "171     19.2  396.90  14.33  \n",
              "172     21.0  393.45   6.48  \n",
              "\n",
              "[173 rows x 14 columns]"
            ]
          },
          "execution_count": 22,
          "metadata": {},
          "output_type": "execute_result"
        }
      ],
      "source": [
        "data = pd.read_csv(\"boston_test.csv\")\n",
        "data"
      ]
    },
    {
      "cell_type": "code",
      "execution_count": 25,
      "metadata": {},
      "outputs": [
        {
          "data": {
            "text/plain": [
              "(173, 14)"
            ]
          },
          "execution_count": 25,
          "metadata": {},
          "output_type": "execute_result"
        }
      ],
      "source": [
        "data.shape"
      ]
    },
    {
      "cell_type": "code",
      "execution_count": 24,
      "metadata": {
        "colab": {
          "base_uri": "https://localhost:8080/"
        },
        "id": "Xl5bLRhUoaWG",
        "outputId": "5d8589aa-bf45-423e-ce97-7f109b1d81f6"
      },
      "outputs": [
        {
          "name": "stdout",
          "output_type": "stream",
          "text": [
            "<class 'pandas.core.frame.DataFrame'>\n",
            "RangeIndex: 173 entries, 0 to 172\n",
            "Data columns (total 14 columns):\n",
            " #   Column   Non-Null Count  Dtype  \n",
            "---  ------   --------------  -----  \n",
            " 0   ID       173 non-null    int64  \n",
            " 1   crim     173 non-null    float64\n",
            " 2   zn       173 non-null    float64\n",
            " 3   indus    173 non-null    float64\n",
            " 4   chas     173 non-null    int64  \n",
            " 5   nox      173 non-null    float64\n",
            " 6   rm       173 non-null    float64\n",
            " 7   age      173 non-null    float64\n",
            " 8   dis      173 non-null    float64\n",
            " 9   rad      173 non-null    int64  \n",
            " 10  tax      173 non-null    int64  \n",
            " 11  ptratio  173 non-null    float64\n",
            " 12  black    173 non-null    float64\n",
            " 13  lstat    173 non-null    float64\n",
            "dtypes: float64(10), int64(4)\n",
            "memory usage: 19.0 KB\n"
          ]
        }
      ],
      "source": [
        "# Display the description on the data.\n",
        "data.info()"
      ]
    },
    {
      "cell_type": "code",
      "execution_count": 27,
      "metadata": {},
      "outputs": [
        {
          "data": {
            "text/html": [
              "<div>\n",
              "<style scoped>\n",
              "    .dataframe tbody tr th:only-of-type {\n",
              "        vertical-align: middle;\n",
              "    }\n",
              "\n",
              "    .dataframe tbody tr th {\n",
              "        vertical-align: top;\n",
              "    }\n",
              "\n",
              "    .dataframe thead th {\n",
              "        text-align: right;\n",
              "    }\n",
              "</style>\n",
              "<table border=\"1\" class=\"dataframe\">\n",
              "  <thead>\n",
              "    <tr style=\"text-align: right;\">\n",
              "      <th></th>\n",
              "      <th>ID</th>\n",
              "      <th>crim</th>\n",
              "      <th>zn</th>\n",
              "      <th>indus</th>\n",
              "      <th>chas</th>\n",
              "      <th>nox</th>\n",
              "      <th>rm</th>\n",
              "      <th>age</th>\n",
              "      <th>dis</th>\n",
              "      <th>rad</th>\n",
              "      <th>tax</th>\n",
              "      <th>ptratio</th>\n",
              "      <th>black</th>\n",
              "      <th>lstat</th>\n",
              "    </tr>\n",
              "  </thead>\n",
              "  <tbody>\n",
              "    <tr>\n",
              "      <th>count</th>\n",
              "      <td>173.000000</td>\n",
              "      <td>173.000000</td>\n",
              "      <td>173.000000</td>\n",
              "      <td>173.000000</td>\n",
              "      <td>173.000000</td>\n",
              "      <td>173.000000</td>\n",
              "      <td>173.000000</td>\n",
              "      <td>173.000000</td>\n",
              "      <td>173.000000</td>\n",
              "      <td>173.000000</td>\n",
              "      <td>173.000000</td>\n",
              "      <td>173.000000</td>\n",
              "      <td>173.000000</td>\n",
              "      <td>173.000000</td>\n",
              "    </tr>\n",
              "    <tr>\n",
              "      <th>mean</th>\n",
              "      <td>258.404624</td>\n",
              "      <td>4.100862</td>\n",
              "      <td>12.661850</td>\n",
              "      <td>10.835145</td>\n",
              "      <td>0.086705</td>\n",
              "      <td>0.549981</td>\n",
              "      <td>6.321237</td>\n",
              "      <td>69.245665</td>\n",
              "      <td>3.958865</td>\n",
              "      <td>9.387283</td>\n",
              "      <td>406.231214</td>\n",
              "      <td>18.469942</td>\n",
              "      <td>351.299711</td>\n",
              "      <td>12.917977</td>\n",
              "    </tr>\n",
              "    <tr>\n",
              "      <th>std</th>\n",
              "      <td>143.289788</td>\n",
              "      <td>10.607761</td>\n",
              "      <td>24.536277</td>\n",
              "      <td>6.596488</td>\n",
              "      <td>0.282219</td>\n",
              "      <td>0.117826</td>\n",
              "      <td>0.700621</td>\n",
              "      <td>28.248244</td>\n",
              "      <td>2.324131</td>\n",
              "      <td>8.662621</td>\n",
              "      <td>164.480626</td>\n",
              "      <td>2.196196</td>\n",
              "      <td>99.781464</td>\n",
              "      <td>7.293408</td>\n",
              "    </tr>\n",
              "    <tr>\n",
              "      <th>min</th>\n",
              "      <td>3.000000</td>\n",
              "      <td>0.013810</td>\n",
              "      <td>0.000000</td>\n",
              "      <td>0.460000</td>\n",
              "      <td>0.000000</td>\n",
              "      <td>0.392000</td>\n",
              "      <td>4.138000</td>\n",
              "      <td>2.900000</td>\n",
              "      <td>1.178100</td>\n",
              "      <td>1.000000</td>\n",
              "      <td>187.000000</td>\n",
              "      <td>12.600000</td>\n",
              "      <td>0.320000</td>\n",
              "      <td>1.920000</td>\n",
              "    </tr>\n",
              "    <tr>\n",
              "      <th>25%</th>\n",
              "      <td>136.000000</td>\n",
              "      <td>0.082210</td>\n",
              "      <td>0.000000</td>\n",
              "      <td>5.320000</td>\n",
              "      <td>0.000000</td>\n",
              "      <td>0.447000</td>\n",
              "      <td>5.895000</td>\n",
              "      <td>42.800000</td>\n",
              "      <td>2.010700</td>\n",
              "      <td>4.000000</td>\n",
              "      <td>279.000000</td>\n",
              "      <td>17.000000</td>\n",
              "      <td>371.720000</td>\n",
              "      <td>6.870000</td>\n",
              "    </tr>\n",
              "    <tr>\n",
              "      <th>50%</th>\n",
              "      <td>268.000000</td>\n",
              "      <td>0.251990</td>\n",
              "      <td>0.000000</td>\n",
              "      <td>8.560000</td>\n",
              "      <td>0.000000</td>\n",
              "      <td>0.538000</td>\n",
              "      <td>6.223000</td>\n",
              "      <td>79.200000</td>\n",
              "      <td>3.421100</td>\n",
              "      <td>5.000000</td>\n",
              "      <td>330.000000</td>\n",
              "      <td>19.100000</td>\n",
              "      <td>390.070000</td>\n",
              "      <td>12.120000</td>\n",
              "    </tr>\n",
              "    <tr>\n",
              "      <th>75%</th>\n",
              "      <td>381.000000</td>\n",
              "      <td>3.673670</td>\n",
              "      <td>20.000000</td>\n",
              "      <td>18.100000</td>\n",
              "      <td>0.000000</td>\n",
              "      <td>0.624000</td>\n",
              "      <td>6.674000</td>\n",
              "      <td>94.600000</td>\n",
              "      <td>5.400700</td>\n",
              "      <td>24.000000</td>\n",
              "      <td>666.000000</td>\n",
              "      <td>20.200000</td>\n",
              "      <td>396.060000</td>\n",
              "      <td>17.210000</td>\n",
              "    </tr>\n",
              "    <tr>\n",
              "      <th>max</th>\n",
              "      <td>505.000000</td>\n",
              "      <td>88.976200</td>\n",
              "      <td>95.000000</td>\n",
              "      <td>27.740000</td>\n",
              "      <td>1.000000</td>\n",
              "      <td>0.871000</td>\n",
              "      <td>8.780000</td>\n",
              "      <td>100.000000</td>\n",
              "      <td>12.126500</td>\n",
              "      <td>24.000000</td>\n",
              "      <td>711.000000</td>\n",
              "      <td>22.000000</td>\n",
              "      <td>396.900000</td>\n",
              "      <td>34.370000</td>\n",
              "    </tr>\n",
              "  </tbody>\n",
              "</table>\n",
              "</div>"
            ],
            "text/plain": [
              "               ID        crim          zn       indus        chas         nox  \\\n",
              "count  173.000000  173.000000  173.000000  173.000000  173.000000  173.000000   \n",
              "mean   258.404624    4.100862   12.661850   10.835145    0.086705    0.549981   \n",
              "std    143.289788   10.607761   24.536277    6.596488    0.282219    0.117826   \n",
              "min      3.000000    0.013810    0.000000    0.460000    0.000000    0.392000   \n",
              "25%    136.000000    0.082210    0.000000    5.320000    0.000000    0.447000   \n",
              "50%    268.000000    0.251990    0.000000    8.560000    0.000000    0.538000   \n",
              "75%    381.000000    3.673670   20.000000   18.100000    0.000000    0.624000   \n",
              "max    505.000000   88.976200   95.000000   27.740000    1.000000    0.871000   \n",
              "\n",
              "               rm         age         dis         rad         tax     ptratio  \\\n",
              "count  173.000000  173.000000  173.000000  173.000000  173.000000  173.000000   \n",
              "mean     6.321237   69.245665    3.958865    9.387283  406.231214   18.469942   \n",
              "std      0.700621   28.248244    2.324131    8.662621  164.480626    2.196196   \n",
              "min      4.138000    2.900000    1.178100    1.000000  187.000000   12.600000   \n",
              "25%      5.895000   42.800000    2.010700    4.000000  279.000000   17.000000   \n",
              "50%      6.223000   79.200000    3.421100    5.000000  330.000000   19.100000   \n",
              "75%      6.674000   94.600000    5.400700   24.000000  666.000000   20.200000   \n",
              "max      8.780000  100.000000   12.126500   24.000000  711.000000   22.000000   \n",
              "\n",
              "            black       lstat  \n",
              "count  173.000000  173.000000  \n",
              "mean   351.299711   12.917977  \n",
              "std     99.781464    7.293408  \n",
              "min      0.320000    1.920000  \n",
              "25%    371.720000    6.870000  \n",
              "50%    390.070000   12.120000  \n",
              "75%    396.060000   17.210000  \n",
              "max    396.900000   34.370000  "
            ]
          },
          "execution_count": 27,
          "metadata": {},
          "output_type": "execute_result"
        }
      ],
      "source": [
        "data.describe()"
      ]
    },
    {
      "cell_type": "code",
      "execution_count": 29,
      "metadata": {},
      "outputs": [
        {
          "data": {
            "text/plain": [
              "ID         0\n",
              "crim       0\n",
              "zn         0\n",
              "indus      0\n",
              "chas       0\n",
              "nox        0\n",
              "rm         0\n",
              "age        0\n",
              "dis        0\n",
              "rad        0\n",
              "tax        0\n",
              "ptratio    0\n",
              "black      0\n",
              "lstat      0\n",
              "dtype: int64"
            ]
          },
          "execution_count": 29,
          "metadata": {},
          "output_type": "execute_result"
        }
      ],
      "source": [
        "data.isnull().sum()"
      ]
    },
    {
      "cell_type": "code",
      "execution_count": 30,
      "metadata": {
        "id": "RjbzWTDcoaWH"
      },
      "outputs": [],
      "source": [
        "# The explanatory variables.\n",
        "X=data.iloc[:,0:-1]\n",
        "Y=data.iloc[:,-1]"
      ]
    },
    {
      "cell_type": "code",
      "execution_count": 31,
      "metadata": {
        "id": "bRgJEfZmoaWI"
      },
      "outputs": [],
      "source": [
        "X_train, X_test, Y_train, Y_test = train_test_split(X, Y, test_size=0.3, random_state=1234)"
      ]
    },
    {
      "attachments": {},
      "cell_type": "markdown",
      "metadata": {
        "id": "tZ3YZ_nh1VKR"
      },
      "source": [
        "#### 2.2. Tree hyperparameter optimization:"
      ]
    },
    {
      "cell_type": "code",
      "execution_count": 32,
      "metadata": {
        "id": "LSDBNfY11XWL"
      },
      "outputs": [],
      "source": [
        "regressor = DecisionTreeRegressor(max_depth=6)\n",
        "DT_reg=regressor.fit(X_train, Y_train)"
      ]
    },
    {
      "cell_type": "code",
      "execution_count": 33,
      "metadata": {
        "id": "HF7AjNy71XiZ"
      },
      "outputs": [
        {
          "data": {
            "text/plain": [
              "DecisionTreeRegressor(max_depth=6)"
            ]
          },
          "execution_count": 33,
          "metadata": {},
          "output_type": "execute_result"
        }
      ],
      "source": [
        "DecisionTreeRegressor(max_depth=6)"
      ]
    },
    {
      "cell_type": "markdown",
      "metadata": {
        "id": "-teBo4IZoaWO"
      },
      "source": [
        "NOTE: We can compare the above result with that obtained using linear regression where the RMSE was 5.33."
      ]
    },
    {
      "cell_type": "code",
      "execution_count": 34,
      "metadata": {
        "id": "MWhrLvIX1WY4"
      },
      "outputs": [
        {
          "name": "stdout",
          "output_type": "stream",
          "text": [
            "0.9321758169058988\n",
            "0.5313874807460731\n"
          ]
        }
      ],
      "source": [
        "print(DT_reg.score(X_train,Y_train))\n",
        "print(DT_reg.score(X_test,Y_test))"
      ]
    },
    {
      "cell_type": "code",
      "execution_count": 35,
      "metadata": {
        "id": "Yy2gAk1g1Wn3"
      },
      "outputs": [],
      "source": [
        "Y_pred=DT_reg.predict(X_test)\n"
      ]
    },
    {
      "cell_type": "code",
      "execution_count": 49,
      "metadata": {
        "id": "hIyUYIkboaWO"
      },
      "outputs": [
        {
          "data": {
            "text/plain": [
              "{'min_samples_split': 9}"
            ]
          },
          "execution_count": 49,
          "metadata": {},
          "output_type": "execute_result"
        }
      ],
      "source": [
        "from sklearn.metrics import make_scorer, r2_score\n",
        "\n",
        "\n",
        "scoring = make_scorer(r2_score)\n",
        "g_cv = GridSearchCV(DecisionTreeRegressor(random_state=0),\n",
        "              param_grid={'min_samples_split': range(2, 10)},\n",
        "              scoring=scoring, cv=5, refit=True)\n",
        "\n",
        "g_cv.fit(X_train, Y_train)\n",
        "g_cv.best_params_\n",
        "\n"
      ]
    },
    {
      "cell_type": "code",
      "execution_count": 50,
      "metadata": {},
      "outputs": [
        {
          "data": {
            "text/plain": [
              "0.3906608572776046"
            ]
          },
          "execution_count": 50,
          "metadata": {},
          "output_type": "execute_result"
        }
      ],
      "source": [
        "result = g_cv.cv_results_\n",
        "# print(result)\n",
        "r2_score(Y_test, g_cv.best_estimator_.predict(X_test))"
      ]
    },
    {
      "cell_type": "markdown",
      "metadata": {
        "id": "G5K94HvG3wl3"
      },
      "source": [
        "Hint : \n",
        "\n",
        "https://www.youtube.com/watch?v=KzIQ3G_TEFg\n",
        "\n",
        "https://towardsdatascience.com/gridsearchcv-for-beginners-db48a90114ee\n",
        "\n",
        "\n",
        "https://www.mygreatlearning.com/blog/gridsearchcv/"
      ]
    },
    {
      "cell_type": "code",
      "execution_count": null,
      "metadata": {
        "id": "aIWTJ9PW3-D0"
      },
      "outputs": [],
      "source": []
    }
  ],
  "metadata": {
    "colab": {
      "provenance": []
    },
    "kernelspec": {
      "display_name": "base",
      "language": "python",
      "name": "python3"
    },
    "language_info": {
      "codemirror_mode": {
        "name": "ipython",
        "version": 3
      },
      "file_extension": ".py",
      "mimetype": "text/x-python",
      "name": "python",
      "nbconvert_exporter": "python",
      "pygments_lexer": "ipython3",
      "version": "3.9.13"
    },
    "vscode": {
      "interpreter": {
        "hash": "b8d95c598a0d400b8ea806a5a4f4d66e0fe7e8ef9b8472e045a1b581be580002"
      }
    }
  },
  "nbformat": 4,
  "nbformat_minor": 0
}
